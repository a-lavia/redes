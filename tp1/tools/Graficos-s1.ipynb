{
 "cells": [
  {
   "cell_type": "code",
   "execution_count": 1,
   "metadata": {
    "collapsed": true
   },
   "outputs": [],
   "source": [
    "%matplotlib inline\n",
    "import numpy as np\n",
    "import matplotlib.pyplot as plt\n",
    "import seaborn as sns\n",
    "import pandas as pd"
   ]
  },
  {
   "cell_type": "markdown",
   "metadata": {},
   "source": [
    "# Graficos Labos Ethernet S1"
   ]
  },
  {
   "cell_type": "code",
   "execution_count": 2,
   "metadata": {
    "scrolled": true
   },
   "outputs": [
    {
     "data": {
      "text/html": [
       "<div>\n",
       "<table border=\"1\" class=\"dataframe\">\n",
       "  <thead>\n",
       "    <tr style=\"text-align: right;\">\n",
       "      <th></th>\n",
       "      <th>symbol</th>\n",
       "      <th>probability</th>\n",
       "      <th>information</th>\n",
       "    </tr>\n",
       "  </thead>\n",
       "  <tbody>\n",
       "    <tr>\n",
       "      <th>0</th>\n",
       "      <td>&lt;unicast, Raw&gt;</td>\n",
       "      <td>0.003680</td>\n",
       "      <td>8.086079</td>\n",
       "    </tr>\n",
       "    <tr>\n",
       "      <th>1</th>\n",
       "      <td>&lt;unicast, LLC&gt;</td>\n",
       "      <td>0.017090</td>\n",
       "      <td>5.870704</td>\n",
       "    </tr>\n",
       "    <tr>\n",
       "      <th>2</th>\n",
       "      <td>&lt;broadcast, ARP&gt;</td>\n",
       "      <td>0.129880</td>\n",
       "      <td>2.944749</td>\n",
       "    </tr>\n",
       "    <tr>\n",
       "      <th>3</th>\n",
       "      <td>&lt;unicast, IP&gt;</td>\n",
       "      <td>0.599200</td>\n",
       "      <td>0.738890</td>\n",
       "    </tr>\n",
       "    <tr>\n",
       "      <th>4</th>\n",
       "      <td>&lt;unicast, IPv6&gt;</td>\n",
       "      <td>0.079700</td>\n",
       "      <td>3.649276</td>\n",
       "    </tr>\n",
       "    <tr>\n",
       "      <th>5</th>\n",
       "      <td>&lt;broadcast, IP&gt;</td>\n",
       "      <td>0.167220</td>\n",
       "      <td>2.580181</td>\n",
       "    </tr>\n",
       "    <tr>\n",
       "      <th>6</th>\n",
       "      <td>&lt;unicast, ARP&gt;</td>\n",
       "      <td>0.000300</td>\n",
       "      <td>11.702750</td>\n",
       "    </tr>\n",
       "    <tr>\n",
       "      <th>7</th>\n",
       "      <td>&lt;broadcast, LLC&gt;</td>\n",
       "      <td>0.002930</td>\n",
       "      <td>8.414884</td>\n",
       "    </tr>\n",
       "    <tr>\n",
       "      <th>8</th>\n",
       "      <td>entropy</td>\n",
       "      <td>1.705766</td>\n",
       "      <td>NaN</td>\n",
       "    </tr>\n",
       "    <tr>\n",
       "      <th>9</th>\n",
       "      <td>max_entropy</td>\n",
       "      <td>3.000000</td>\n",
       "      <td>NaN</td>\n",
       "    </tr>\n",
       "  </tbody>\n",
       "</table>\n",
       "</div>"
      ],
      "text/plain": [
       "             symbol  probability  information\n",
       "0    <unicast, Raw>     0.003680     8.086079\n",
       "1    <unicast, LLC>     0.017090     5.870704\n",
       "2  <broadcast, ARP>     0.129880     2.944749\n",
       "3     <unicast, IP>     0.599200     0.738890\n",
       "4   <unicast, IPv6>     0.079700     3.649276\n",
       "5   <broadcast, IP>     0.167220     2.580181\n",
       "6    <unicast, ARP>     0.000300    11.702750\n",
       "7  <broadcast, LLC>     0.002930     8.414884\n",
       "8           entropy     1.705766          NaN\n",
       "9       max_entropy     3.000000          NaN"
      ]
     },
     "execution_count": 2,
     "metadata": {},
     "output_type": "execute_result"
    }
   ],
   "source": [
    "dfEthernet = pd.read_csv(\"tablas/capturaEthernet_s1_table.csv\", sep=\";\")\n",
    "\n",
    "#dfEntropyEther[0] -> entropy  ;   dfEntropyEther[1] -> max entropy\n",
    "dfEntropyEther = dfEthernet[\"probability\"][len(dfEthernet[\"probability\"])-2:].reset_index(drop=True)\n",
    "dfTableEthernet = dfEthernet[:len(dfEthernet[\"probability\"])-2]\n",
    "# print dfEntropyEther\n",
    "# print dfTableEthernet\n",
    "\n",
    "dfEthernet"
   ]
  },
  {
   "cell_type": "markdown",
   "metadata": {},
   "source": [
    "### Labos Ethernet S1: info y entropia"
   ]
  },
  {
   "cell_type": "code",
   "execution_count": 3,
   "metadata": {
    "scrolled": false
   },
   "outputs": [
    {
     "data": {
      "image/png": "[encoded data removed]",
      "text/plain": [
       "<matplotlib.figure.Figure at 0x7f1598182350>"
      ]
     },
     "metadata": {},
     "output_type": "display_data"
    }
   ],
   "source": [
    "dfTableEthernetSortedInfo = dfTableEthernet.sort_values(by='information')\n",
    "\n",
    "infoEther = dfTableEthernetSortedInfo[\"information\"]\n",
    "symbolsEther = dfTableEthernetSortedInfo[\"symbol\"]\n",
    "\n",
    "mpl_fig = plt.figure()\n",
    "ax = mpl_fig.add_subplot(111)\n",
    "ax.set_ylabel('Informacion')\n",
    "\n",
    "plt.bar(range(len(infoEther)), infoEther, align='center')\n",
    "plt.xticks(range(len(symbolsEther)), symbolsEther,rotation=45)\n",
    "\n",
    "plt.plot([0, len(symbolsEther)],[dfEntropyEther[0], dfEntropyEther[0]], 'k--', label='Entropia')\n",
    "plt.text(len(symbolsEther), dfEntropyEther[0], 'Entropia')\n",
    "\n",
    "plt.plot([0,len(symbolsEther)],[dfEntropyEther[1], dfEntropyEther[1]], 'k--', label='Entropia Maxima')\n",
    "plt.text(len(symbolsEther), dfEntropyEther[1], 'Entropia Maxima')\n",
    "\n",
    "plt.show()"
   ]
  },
  {
   "cell_type": "markdown",
   "metadata": {},
   "source": [
    "### Labos Ethernet S1: % aparicion de cada protocolo"
   ]
  },
  {
   "cell_type": "code",
   "execution_count": 17,
   "metadata": {
    "scrolled": false
   },
   "outputs": [
    {
     "data": {
      "image/png": "[encoded data removed]",
      "text/plain": [
       "<matplotlib.figure.Figure at 0x7f1595c43e90>"
      ]
     },
     "metadata": {},
     "output_type": "display_data"
    }
   ],
   "source": [
    "symbolsEther = dfTableEthernet[\"symbol\"]\n",
    "\n",
    "protocolosEther = []\n",
    "\n",
    "for p in symbolsEther:\n",
    "    _ , proto = p.split()\n",
    "    protocolosEther.append(proto[:len(proto)-1])\n",
    "protocolosEther.sort()\n",
    "\n",
    "protoQtty = []\n",
    "i = 0\n",
    "while i < len(protocolosEther):\n",
    "    p = protocolosEther[i]\n",
    "    qtty = 1\n",
    "    j = i+1\n",
    "    while(j < len(protocolosEther) and protocolosEther[j] == p):\n",
    "        qtty+=1\n",
    "        j+=1\n",
    "    protoQtty.append((p,qtty))\n",
    "    i+=qtty\n",
    "\n",
    "protocolosEther = [x[0] for x in protoQtty]\n",
    "percentageProtoEther = [(x[1]*100)/len(symbolsEther) for x in protoQtty]\n",
    "\n",
    "mpl_fig = plt.figure()\n",
    "ax = mpl_fig.add_subplot(111)\n",
    "ax.set_ylabel('% Aparicion')\n",
    "\n",
    "plt.bar(range(len(percentageProtoEther)), percentageProtoEther, align='center')\n",
    "plt.xticks(range(len(protocolosEther)), protocolosEther,rotation=45)\n",
    "\n",
    "plt.show()"
   ]
  },
  {
   "cell_type": "markdown",
   "metadata": {},
   "source": [
    "### Labos Ethernet S1: % broadcast sobre el total"
   ]
  },
  {
   "cell_type": "code",
   "execution_count": 18,
   "metadata": {},
   "outputs": [
    {
     "data": {
      "image/png": "[encoded data removed]",
      "text/plain": [
       "<matplotlib.figure.Figure at 0x7f159605f790>"
      ]
     },
     "metadata": {},
     "output_type": "display_data"
    }
   ],
   "source": [
    "# brEther[0]= probabilidad del broadcast ; brEther[1]= probabilidad total\n",
    "sumBrEther = sum(dfTableEthernet[dfTableEthernet['symbol'].str.contains('broadcast')]['probability'])\n",
    "sumTotEther = sum(dfTableEthernet['probability'])\n",
    "brEther = [sumBrEther, sumTotEther]\n",
    "\n",
    "mpl_fig = plt.figure()\n",
    "ax = mpl_fig.add_subplot(111)\n",
    "ax.set_ylabel('Porcentaje de Trafico')\n",
    "\n",
    "nombres = ['Broadcast', 'Total']\n",
    "\n",
    "plt.bar(range(len(brEther)), brEther, align='center')\n",
    "plt.xticks(range(len(nombres)), nombres)\n",
    "\n",
    "plt.show()"
   ]
  },
  {
   "cell_type": "markdown",
   "metadata": {},
   "source": [
    "# Graficos Bufet Inalambrica S1"
   ]
  },
  {
   "cell_type": "code",
   "execution_count": 19,
   "metadata": {
    "scrolled": true
   },
   "outputs": [
    {
     "data": {
      "text/html": [
       "<div>\n",
       "<table border=\"1\" class=\"dataframe\">\n",
       "  <thead>\n",
       "    <tr style=\"text-align: right;\">\n",
       "      <th></th>\n",
       "      <th>symbol</th>\n",
       "      <th>probability</th>\n",
       "      <th>information</th>\n",
       "    </tr>\n",
       "  </thead>\n",
       "  <tbody>\n",
       "    <tr>\n",
       "      <th>0</th>\n",
       "      <td>&lt;unicast, IP&gt;</td>\n",
       "      <td>0.949748</td>\n",
       "      <td>0.074383</td>\n",
       "    </tr>\n",
       "    <tr>\n",
       "      <th>1</th>\n",
       "      <td>&lt;broadcast, IP&gt;</td>\n",
       "      <td>0.016600</td>\n",
       "      <td>5.912680</td>\n",
       "    </tr>\n",
       "    <tr>\n",
       "      <th>2</th>\n",
       "      <td>&lt;unicast, ARP&gt;</td>\n",
       "      <td>0.011110</td>\n",
       "      <td>6.492039</td>\n",
       "    </tr>\n",
       "    <tr>\n",
       "      <th>3</th>\n",
       "      <td>&lt;broadcast, ARP&gt;</td>\n",
       "      <td>0.007363</td>\n",
       "      <td>7.085414</td>\n",
       "    </tr>\n",
       "    <tr>\n",
       "      <th>4</th>\n",
       "      <td>&lt;unicast, IPv6&gt;</td>\n",
       "      <td>0.015179</td>\n",
       "      <td>6.041787</td>\n",
       "    </tr>\n",
       "    <tr>\n",
       "      <th>5</th>\n",
       "      <td>entropy</td>\n",
       "      <td>0.384800</td>\n",
       "      <td>NaN</td>\n",
       "    </tr>\n",
       "    <tr>\n",
       "      <th>6</th>\n",
       "      <td>max_entropy</td>\n",
       "      <td>2.321928</td>\n",
       "      <td>NaN</td>\n",
       "    </tr>\n",
       "  </tbody>\n",
       "</table>\n",
       "</div>"
      ],
      "text/plain": [
       "             symbol  probability  information\n",
       "0     <unicast, IP>     0.949748     0.074383\n",
       "1   <broadcast, IP>     0.016600     5.912680\n",
       "2    <unicast, ARP>     0.011110     6.492039\n",
       "3  <broadcast, ARP>     0.007363     7.085414\n",
       "4   <unicast, IPv6>     0.015179     6.041787\n",
       "5           entropy     0.384800          NaN\n",
       "6       max_entropy     2.321928          NaN"
      ]
     },
     "execution_count": 19,
     "metadata": {},
     "output_type": "execute_result"
    }
   ],
   "source": [
    "dfBufet = pd.read_csv(\"tablas/capturaBuffet_s1_table.csv\", sep=\";\")\n",
    "\n",
    "#dfEntropyBufet[0] -> entropy  ;   dfEntropyBufet[1] -> max entropy\n",
    "dfEntropyBufet = dfBufet[\"probability\"][len(dfBufet[\"probability\"])-2:].reset_index(drop=True)\n",
    "dfTableBufet = dfBufet[:len(dfBufet[\"probability\"])-2]\n",
    "#print dfEntropyBufet\n",
    "#print dfTableBufet\n",
    "\n",
    "dfBufet"
   ]
  },
  {
   "cell_type": "markdown",
   "metadata": {},
   "source": [
    "### Bufet Inalambrica S1: info y entropia"
   ]
  },
  {
   "cell_type": "code",
   "execution_count": 20,
   "metadata": {
    "scrolled": false
   },
   "outputs": [
    {
     "data": {
      "image/png": "[encoded data removed]",
      "text/plain": [
       "<matplotlib.figure.Figure at 0x7f15960e1cd0>"
      ]
     },
     "metadata": {},
     "output_type": "display_data"
    }
   ],
   "source": [
    "dfTableBufetSortedInfo = dfTableBufet.sort_values(by='information')\n",
    "\n",
    "infoBufet = dfTableBufetSortedInfo[\"information\"]\n",
    "symbolsBufet = dfTableBufetSortedInfo[\"symbol\"]\n",
    "\n",
    "mpl_fig = plt.figure()\n",
    "ax = mpl_fig.add_subplot(111)\n",
    "ax.set_ylabel('Informacion')\n",
    "\n",
    "plt.bar(range(len(infoBufet)), infoBufet, align='center')\n",
    "plt.xticks(range(len(symbolsBufet)), symbolsBufet,rotation=45)\n",
    "\n",
    "plt.plot([0,len(symbolsBufet)],[dfEntropyBufet[0], dfEntropyBufet[0]], 'k--', label='Entropia')\n",
    "plt.text(len(symbolsBufet), dfEntropyBufet[0], 'Entropia')\n",
    "\n",
    "plt.plot([0,len(symbolsBufet)],[dfEntropyBufet[1], dfEntropyBufet[1]], 'k--', label='Entropia Maxima')\n",
    "plt.text(len(symbolsBufet), dfEntropyBufet[1], 'Entropia Maxima')\n",
    "\n",
    "plt.show()"
   ]
  },
  {
   "cell_type": "markdown",
   "metadata": {},
   "source": [
    "### Bufet Inalambrica S1: % aparicion de cada protocolo"
   ]
  },
  {
   "cell_type": "code",
   "execution_count": 30,
   "metadata": {},
   "outputs": [
    {
     "data": {
      "image/png": "[encoded data removed]",
      "text/plain": [
       "<matplotlib.figure.Figure at 0x7f15956ec550>"
      ]
     },
     "metadata": {},
     "output_type": "display_data"
    }
   ],
   "source": [
    "symbolsBufet = dfTableBufet[\"symbol\"]\n",
    "\n",
    "protocolosBufet = []\n",
    "\n",
    "for p in symbolsBufet:\n",
    "    _ , proto = p.split()\n",
    "    protocolosBufet.append(proto[:len(proto)-1])\n",
    "protocolosBufet.sort()\n",
    "\n",
    "protoQttyBufet = []\n",
    "i = 0\n",
    "while i < len(protocolosBufet):\n",
    "    p = protocolosBufet[i]\n",
    "    qtty = 1\n",
    "    j = i+1\n",
    "    while(j < len(protocolosBufet) and protocolosBufet[j] == p):\n",
    "        qtty+=1\n",
    "        j+=1\n",
    "    protoQttyBufet.append((p,qtty))\n",
    "    i+=qtty\n",
    "\n",
    "protocolosBufet = [x[0] for x in protoQttyBufet]\n",
    "percentageProtoBufet = [(x[1]*100)/len(symbolsBufet) for x in protoQttyBufet]\n",
    "\n",
    "mpl_fig = plt.figure()\n",
    "ax = mpl_fig.add_subplot(111)\n",
    "ax.set_ylabel('% Aparicion')\n",
    "\n",
    "plt.bar(range(len(percentageProtoBufet)), percentageProtoBufet, align='center')\n",
    "plt.xticks(range(len(protocolosBufet)), protocolosBufet,rotation=45)\n",
    "\n",
    "plt.show()"
   ]
  },
  {
   "cell_type": "markdown",
   "metadata": {},
   "source": [
    "### Bufet Inalambrica S1: % broadcast sobre el total"
   ]
  },
  {
   "cell_type": "code",
   "execution_count": 21,
   "metadata": {},
   "outputs": [
    {
     "data": {
      "image/png": "[encoded data removed]",
      "text/plain": [
       "<matplotlib.figure.Figure at 0x7f1595a4b510>"
      ]
     },
     "metadata": {},
     "output_type": "display_data"
    }
   ],
   "source": [
    "# brBufet[0]= probabilidad del broadcast ; brBufet[1]= probabilidad total\n",
    "sumBrBufet = sum(dfTableBufet[dfTableBufet['symbol'].str.contains('broadcast')]['probability'])\n",
    "sumTotBufet = sum(dfTableBufet['probability'])\n",
    "brBufet = [sumBrBufet, sumTotBufet]\n",
    "\n",
    "mpl_fig = plt.figure()\n",
    "ax = mpl_fig.add_subplot(111)\n",
    "ax.set_ylabel('Porcentaje de Trafico')\n",
    "\n",
    "nombres = ['Broadcast', 'Total']\n",
    "\n",
    "plt.bar(range(len(brBufet)), brBufet, align='center')\n",
    "plt.xticks(range(len(nombres)), nombres)\n",
    "\n",
    "plt.show()"
   ]
  },
  {
   "cell_type": "markdown",
   "metadata": {},
   "source": [
    "# Graficos Labos Inalambrica S1"
   ]
  },
  {
   "cell_type": "code",
   "execution_count": 22,
   "metadata": {
    "scrolled": true
   },
   "outputs": [
    {
     "data": {
      "text/html": [
       "<div>\n",
       "<table border=\"1\" class=\"dataframe\">\n",
       "  <thead>\n",
       "    <tr style=\"text-align: right;\">\n",
       "      <th></th>\n",
       "      <th>symbol</th>\n",
       "      <th>probability</th>\n",
       "      <th>information</th>\n",
       "    </tr>\n",
       "  </thead>\n",
       "  <tbody>\n",
       "    <tr>\n",
       "      <th>0</th>\n",
       "      <td>&lt;broadcast, IP&gt;</td>\n",
       "      <td>0.252349</td>\n",
       "      <td>1.986507</td>\n",
       "    </tr>\n",
       "    <tr>\n",
       "      <th>1</th>\n",
       "      <td>&lt;unicast, ARP&gt;</td>\n",
       "      <td>0.000952</td>\n",
       "      <td>10.036071</td>\n",
       "    </tr>\n",
       "    <tr>\n",
       "      <th>2</th>\n",
       "      <td>&lt;broadcast, ARP&gt;</td>\n",
       "      <td>0.161667</td>\n",
       "      <td>2.628898</td>\n",
       "    </tr>\n",
       "    <tr>\n",
       "      <th>3</th>\n",
       "      <td>&lt;unicast, IP&gt;</td>\n",
       "      <td>0.382337</td>\n",
       "      <td>1.387083</td>\n",
       "    </tr>\n",
       "    <tr>\n",
       "      <th>4</th>\n",
       "      <td>&lt;unicast, LLC&gt;</td>\n",
       "      <td>0.001365</td>\n",
       "      <td>9.517198</td>\n",
       "    </tr>\n",
       "    <tr>\n",
       "      <th>5</th>\n",
       "      <td>&lt;broadcast, LLC&gt;</td>\n",
       "      <td>0.005480</td>\n",
       "      <td>7.511573</td>\n",
       "    </tr>\n",
       "    <tr>\n",
       "      <th>6</th>\n",
       "      <td>&lt;unicast, IPv6&gt;</td>\n",
       "      <td>0.195849</td>\n",
       "      <td>2.352186</td>\n",
       "    </tr>\n",
       "    <tr>\n",
       "      <th>7</th>\n",
       "      <td>entropy</td>\n",
       "      <td>1.981019</td>\n",
       "      <td>NaN</td>\n",
       "    </tr>\n",
       "    <tr>\n",
       "      <th>8</th>\n",
       "      <td>max_entropy</td>\n",
       "      <td>2.807355</td>\n",
       "      <td>NaN</td>\n",
       "    </tr>\n",
       "  </tbody>\n",
       "</table>\n",
       "</div>"
      ],
      "text/plain": [
       "             symbol  probability  information\n",
       "0   <broadcast, IP>     0.252349     1.986507\n",
       "1    <unicast, ARP>     0.000952    10.036071\n",
       "2  <broadcast, ARP>     0.161667     2.628898\n",
       "3     <unicast, IP>     0.382337     1.387083\n",
       "4    <unicast, LLC>     0.001365     9.517198\n",
       "5  <broadcast, LLC>     0.005480     7.511573\n",
       "6   <unicast, IPv6>     0.195849     2.352186\n",
       "7           entropy     1.981019          NaN\n",
       "8       max_entropy     2.807355          NaN"
      ]
     },
     "execution_count": 22,
     "metadata": {},
     "output_type": "execute_result"
    }
   ],
   "source": [
    "dfLabos = pd.read_csv(\"tablas/capturaLaboDC_s1_table.csv\", sep=\";\")\n",
    "\n",
    "#dfEntropyLabos[0] -> entropy  ;   dfEntropyLabos[1] -> max entropy\n",
    "dfEntropyLabos = dfLabos[\"probability\"][len(dfLabos[\"probability\"])-2:].reset_index(drop=True)\n",
    "dfTableLabos = dfLabos[:len(dfLabos[\"probability\"])-2]\n",
    "#print dfEntropyLabos\n",
    "#print dfTableLabos\n",
    "\n",
    "dfLabos"
   ]
  },
  {
   "cell_type": "markdown",
   "metadata": {},
   "source": [
    "### Labos Inalambrica S1: info y entropia"
   ]
  },
  {
   "cell_type": "code",
   "execution_count": 23,
   "metadata": {
    "scrolled": false
   },
   "outputs": [
    {
     "data": {
      "image/png": "[encoded data removed]",
      "text/plain": [
       "<matplotlib.figure.Figure at 0x7f15957755d0>"
      ]
     },
     "metadata": {},
     "output_type": "display_data"
    }
   ],
   "source": [
    "dfTableLabosSortedInfo = dfTableLabos.sort_values(by='information')\n",
    "\n",
    "infoLabos = dfTableLabosSortedInfo[\"information\"]\n",
    "symbolsLabos = dfTableLabosSortedInfo[\"symbol\"]\n",
    "\n",
    "mpl_fig = plt.figure()\n",
    "ax = mpl_fig.add_subplot(111)\n",
    "ax.set_ylabel('Informacion')\n",
    "\n",
    "plt.bar(range(len(infoLabos)), infoLabos, align='center')\n",
    "plt.xticks(range(len(symbolsLabos)), symbolsLabos,rotation=45)\n",
    "\n",
    "plt.plot([0,len(symbolsLabos)],[dfEntropyLabos[0], dfEntropyLabos[0]], 'k--', label='Entropia')\n",
    "plt.text(len(symbolsLabos), dfEntropyLabos[0], 'Entropia')\n",
    "\n",
    "plt.plot([0,len(symbolsLabos)],[dfEntropyLabos[1], dfEntropyLabos[1]], 'k--', label='Entropia Maxima')\n",
    "plt.text(len(symbolsLabos), dfEntropyLabos[1], 'Entropia Maxima')\n",
    "\n",
    "plt.show()"
   ]
  },
  {
   "cell_type": "markdown",
   "metadata": {},
   "source": [
    "### Labos Inalambrica S1: % aparicion de cada protocolo"
   ]
  },
  {
   "cell_type": "code",
   "execution_count": 33,
   "metadata": {},
   "outputs": [
    {
     "data": {
      "image/png": "[encoded data removed]",
      "text/plain": [
       "<matplotlib.figure.Figure at 0x7f15956d9190>"
      ]
     },
     "metadata": {},
     "output_type": "display_data"
    }
   ],
   "source": [
    "symbolsLabos = dfTableLabos[\"symbol\"]\n",
    "\n",
    "protocolosLabos = []\n",
    "\n",
    "for p in symbolsLabos:\n",
    "    _ , proto = p.split()\n",
    "    protocolosLabos.append(proto[:len(proto)-1])\n",
    "protocolosLabos.sort()\n",
    "\n",
    "protoQttyLabos = []\n",
    "i = 0\n",
    "while i < len(protocolosLabos):\n",
    "    p = protocolosLabos[i]\n",
    "    qtty = 1\n",
    "    j = i+1\n",
    "    while(j < len(protocolosLabos) and protocolosLabos[j] == p):\n",
    "        qtty+=1\n",
    "        j+=1\n",
    "    protoQttyLabos.append((p,qtty))\n",
    "    i+=qtty\n",
    "\n",
    "protocolosLabos = [x[0] for x in protoQttyLabos]\n",
    "percentageProtoLabos = [(x[1]*100)/len(symbolsLabos) for x in protoQttyLabos]\n",
    "\n",
    "mpl_fig = plt.figure()\n",
    "ax = mpl_fig.add_subplot(111)\n",
    "ax.set_ylabel('% Aparicion')\n",
    "\n",
    "plt.bar(range(len(percentageProtoLabos)), percentageProtoLabos, align='center')\n",
    "plt.xticks(range(len(protocolosLabos)), protocolosLabos,rotation=45)\n",
    "\n",
    "plt.show()"
   ]
  },
  {
   "cell_type": "markdown",
   "metadata": {},
   "source": [
    "### Labos Inalambrica S1: % broadcast sobre el total"
   ]
  },
  {
   "cell_type": "code",
   "execution_count": 25,
   "metadata": {},
   "outputs": [
    {
     "data": {
      "image/png": "[encoded data removed]",
      "text/plain": [
       "<matplotlib.figure.Figure at 0x7f15957e8710>"
      ]
     },
     "metadata": {},
     "output_type": "display_data"
    }
   ],
   "source": [
    "# brLabos[0]= probabilidad del broadcast ; brLabos[1]= probabilidad total\n",
    "sumBrLabos = sum(dfTableLabos[dfTableLabos['symbol'].str.contains('broadcast')]['probability'])\n",
    "sumTotLabos = sum(dfTableLabos['probability'])\n",
    "brLabos = [sumBrLabos, sumTotLabos]\n",
    "\n",
    "mpl_fig = plt.figure()\n",
    "ax = mpl_fig.add_subplot(111)\n",
    "ax.set_ylabel('Porcentaje de Trafico')\n",
    "\n",
    "nombres = ['Broadcast', 'Total']\n",
    "\n",
    "plt.bar(range(len(brLabos)), brLabos, align='center')\n",
    "plt.xticks(range(len(nombres)), nombres)\n",
    "\n",
    "plt.show()"
   ]
  }
 ],
 "metadata": {
  "kernelspec": {
   "display_name": "Python 2",
   "language": "python",
   "name": "python2"
  },
  "language_info": {
   "codemirror_mode": {
    "name": "ipython",
    "version": 2
   },
   "file_extension": ".py",
   "mimetype": "text/x-python",
   "name": "python",
   "nbconvert_exporter": "python",
   "pygments_lexer": "ipython2",
   "version": "2.7.12"
  }
 },
 "nbformat": 4,
 "nbformat_minor": 2
}
